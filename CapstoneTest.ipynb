{
 "cells": [
  {
   "cell_type": "code",
   "execution_count": 1,
   "metadata": {},
   "outputs": [],
   "source": [
    "import requests\n",
    "from bs4 import BeautifulSoup\n",
    "from urllib.request import urlopen\n",
    "import re"
   ]
  },
  {
   "cell_type": "code",
   "execution_count": 2,
   "metadata": {},
   "outputs": [],
   "source": [
    "r = requests.get(\"https://socialblade.com/facebook/page/mcdonalds\").text\n",
    "soup = BeautifulSoup(r, 'html.parser')"
   ]
  },
  {
   "cell_type": "code",
   "execution_count": 3,
   "metadata": {},
   "outputs": [],
   "source": [
    "test = soup.get_text()"
   ]
  },
  {
   "cell_type": "code",
   "execution_count": 4,
   "metadata": {},
   "outputs": [
    {
     "data": {
      "text/plain": [
       "7435"
      ]
     },
     "execution_count": 4,
     "metadata": {},
     "output_type": "execute_result"
    }
   ],
   "source": [
    "test.index('data: ')"
   ]
  },
  {
   "cell_type": "code",
   "execution_count": 5,
   "metadata": {},
   "outputs": [],
   "source": [
    "testing = test[test.index(\"Highcharts.chart('graph-facebook-daily-vidviews-container'\"):test.index(\"Highcharts.chart('graph-facebook-daily-vidviews-container'\")+1000]"
   ]
  },
  {
   "cell_type": "code",
   "execution_count": 6,
   "metadata": {},
   "outputs": [
    {
     "data": {
      "text/plain": [
       "\"Highcharts.chart('graph-facebook-daily-vidviews-container', {\\r\\n\\t\\t    chart: { type: 'spline', zoomType: 'xy' },\\r\\n\\t\\t    credits: { enabled: false },\\t\\t    \\r\\n\\t\\t    title: { text: 'Total daily video views for \\\\'McDonald's\\\\'' },\\r\\n\\t\\t    xAxis: { type: 'datetime', labels: { overflow: 'justify' }},\\r\\n\\t\\t    yAxis: { title: { text: 'Video Views' }, minorGridLineWidth: 1, gridLineWidth: 1, alternateGridColor: null, },\\r\\n\\t\\t    tooltip: { valueSuffix: ' Video Views' },\\r\\n\\t\\t    plotOptions: { \\r\\n\\t\\t\\tspline: { lineWidth: 4,\\r\\n\\t\\t\\t    states: {\\r\\n\\t\\t\\t\\thover: { lineWidth: 5 }\\r\\n\\t\\t\\t    },\\r\\n\\t\\t\\t    marker: { enabled: false },\\r\\n\\t\\t\\t    pointInterval: 24 * 3600 * 1000,\\r\\n\\t\\t\\t    pointStart: Date.UTC(2019, 02, 21)\\r\\n\\t\\t\\t}\\r\\n\\t\\t    },\\r\\n\\t\\t    series: [{ name: 'mcdonalds', showInLegend: false, animation: false, color: '#c84329', lineWidth: 3, data: [39710,40954,40571,40434,38709,37099,34087,31307,29795,28328,28068,27210,33570,35088] }],\\r\\n\\t\\t    navigation: { menuItemStyle: { fontSize: '9px' } }\\r\\n\\t\\t});\\t\\t\\r\\n\\t\\t\\r\\n\\t    });\\r\\n\\r\\n\\t    \\n\\n\\n\""
      ]
     },
     "execution_count": 6,
     "metadata": {},
     "output_type": "execute_result"
    }
   ],
   "source": [
    "testing"
   ]
  },
  {
   "cell_type": "code",
   "execution_count": 95,
   "metadata": {},
   "outputs": [],
   "source": []
  },
  {
   "cell_type": "code",
   "execution_count": 7,
   "metadata": {},
   "outputs": [],
   "source": [
    "f = testing[testing.find('data: [')+7 : testing.find('] }]')] \n",
    "f = list(map(int, f.split(',')))"
   ]
  },
  {
   "cell_type": "code",
   "execution_count": 9,
   "metadata": {},
   "outputs": [
    {
     "data": {
      "text/plain": [
       "[39710,\n",
       " 40954,\n",
       " 40571,\n",
       " 40434,\n",
       " 38709,\n",
       " 37099,\n",
       " 34087,\n",
       " 31307,\n",
       " 29795,\n",
       " 28328,\n",
       " 28068,\n",
       " 27210,\n",
       " 33570,\n",
       " 35088]"
      ]
     },
     "execution_count": 9,
     "metadata": {},
     "output_type": "execute_result"
    }
   ],
   "source": [
    "f"
   ]
  },
  {
   "cell_type": "code",
   "execution_count": null,
   "metadata": {},
   "outputs": [],
   "source": []
  }
 ],
 "metadata": {
  "kernelspec": {
   "display_name": "Python 3",
   "language": "python",
   "name": "python3"
  },
  "language_info": {
   "codemirror_mode": {
    "name": "ipython",
    "version": 3
   },
   "file_extension": ".py",
   "mimetype": "text/x-python",
   "name": "python",
   "nbconvert_exporter": "python",
   "pygments_lexer": "ipython3",
   "version": "3.6.5"
  }
 },
 "nbformat": 4,
 "nbformat_minor": 2
}
